{
 "cells": [
  {
   "cell_type": "code",
   "execution_count": 2,
   "metadata": {
    "collapsed": true,
    "ExecuteTime": {
     "end_time": "2023-11-14T21:50:14.583943700Z",
     "start_time": "2023-11-14T21:50:12.657379900Z"
    }
   },
   "outputs": [],
   "source": [
    "import warnings\n",
    "warnings.filterwarnings('ignore')\n",
    "\n",
    "import numpy as np\n",
    "import pandas as pd\n",
    "import os\n",
    "import scipy.sparse as sparse\n",
    "import copy"
   ]
  },
  {
   "cell_type": "markdown",
   "source": [
    "## DrugNet"
   ],
   "metadata": {
    "collapsed": false
   }
  },
  {
   "cell_type": "code",
   "execution_count": 9,
   "outputs": [],
   "source": [
    "path1 = \"data/DrugNet/CSV/\"\n",
    "path0 = \"data/DrugNet/\"\n",
    "path2 = \"results/New/DrugNet/\"\n",
    "\n",
    "A0 = np.genfromtxt(path1+'DRUGNET.csv',delimiter=',')[1:, 1:]\n",
    "A0 = np.maximum(A0, A0.T) # transform to undirected net\n",
    "F0 = np.genfromtxt(path1+'DRUGATTR.csv',delimiter=',').astype(np.int64)[1:, 1:]\n",
    "\n",
    "s = np.sum(A0, axis=1) + np.sum(A0, axis=0)\n",
    "nze = np.where(s!=0)[0]\n",
    "\n",
    "A = A0[nze,:]\n",
    "A = A[:,nze]\n",
    "\n",
    "# identify unlinked nodes\n",
    "sm = np.array([105,151,51,135,145,147,35,176,181,158,166,114,117,11,73,98,120,126,192])\n",
    "nn = A.shape[0]\n",
    "F = F0[nze,:]\n",
    "inter = np.setdiff1d(np.arange(nn), sm)\n",
    "\n",
    "# exclude unlinked nodes out of network\n",
    "A = A[inter,:]\n",
    "A = A[:,inter]\n",
    "F = F[inter,:]\n",
    "\n",
    "F_new = copy.deepcopy(F)\n",
    "F_new[(F[:,0] <2) | (F[:,0]> 3), 0] = 1\n",
    "\n",
    "np.savetxt(path0+'DrugNetgraph.csv', A, fmt='%d', delimiter=',')\n",
    "np.savetxt(path0+'DrugNetfeature.csv', F_new, fmt='%d', delimiter=',')"
   ],
   "metadata": {
    "collapsed": false,
    "ExecuteTime": {
     "end_time": "2023-11-15T17:39:39.229276500Z",
     "start_time": "2023-11-15T17:39:39.138881Z"
    }
   }
  },
  {
   "cell_type": "markdown",
   "source": [
    "## NBA"
   ],
   "metadata": {
    "collapsed": false
   }
  },
  {
   "cell_type": "code",
   "execution_count": 8,
   "outputs": [
    {
     "name": "stdout",
     "output_type": "stream",
     "text": [
      "Dataset balance =  0.36054421768707484\n"
     ]
    }
   ],
   "source": [
    "path1 = \"data/NBA/\"\n",
    "path2 = \"results/New/NBA/\"\n",
    "\n",
    "att = np.genfromtxt(path1+'nba.csv', delimiter=',', skip_header=1, dtype=('int64'))[:, [0, 37]]\n",
    "#att = att.astype(np.int32)\n",
    "\n",
    "lab = np.genfromtxt(path1+'nba.csv', delimiter=',', skip_header=1, dtype=('int64'))[:, [0, 1]]\n",
    "#lab = lab.astype(np.int32)\n",
    "\n",
    "E = np.genfromtxt(path1+'nba_relationship.txt', delimiter='\\t', dtype=('int64'))\n",
    "e = E.shape[0]\n",
    "\n",
    "N = np.unique(E)\n",
    "n = N.shape[0]\n",
    "\n",
    "A = np.zeros([n, n]).astype(np.int64)\n",
    "F = np.zeros(n).astype(np.int64)\n",
    "label = np.zeros(n).astype(np.int64)\n",
    "\n",
    "for i in range(e):\n",
    "    l1 = int(np.where(N == E[i, 0])[0])\n",
    "    l2 = int(np.where(N == E[i, 1])[0])\n",
    "\n",
    "    ind1 = np.where(E[i, 0] == att[:, 0])\n",
    "    ind2 = np.where(E[i, 1] == att[:, 0])\n",
    "\n",
    "    F[l1] = att[ind1, 1]\n",
    "    F[l2] = att[ind2, 1]\n",
    "\n",
    "    label[l1] = lab[ind1, 1]\n",
    "    label[l2] = lab[ind2, 1]\n",
    "\n",
    "    A[l1, l2] = 1\n",
    "    A[l2, l1] = 1\n",
    "\n",
    "np.savetxt(path1 + \"NBAgraph.csv\", A, fmt='%d', delimiter=',')\n",
    "np.savetxt(path1 + \"NBAfeature.csv\", F, fmt='%d', delimiter=',')\n",
    "\n",
    "all_in_one = np.ones(F.shape[0])\n",
    "uniqe_vals, count = np.unique(F, return_counts=True)\n",
    "NBA_balance = min(count)/max(count)\n",
    "\n",
    "print(\"Dataset balance = \", NBA_balance)"
   ],
   "metadata": {
    "collapsed": false,
    "ExecuteTime": {
     "end_time": "2023-11-15T17:39:28.333342300Z",
     "start_time": "2023-11-15T17:39:26.930722100Z"
    }
   }
  },
  {
   "cell_type": "markdown",
   "source": [
    "## School"
   ],
   "metadata": {
    "collapsed": false
   }
  },
  {
   "cell_type": "code",
   "execution_count": 4,
   "outputs": [
    {
     "name": "stdout",
     "output_type": "stream",
     "text": [
      "0\n",
      "Dataset balance =  0.8235294117647058\n"
     ]
    }
   ],
   "source": [
    "path1 = \"data/School/\"\n",
    "path2 = \"results/New/School/\"\n",
    "\n",
    "df = pd.read_csv(path1+'metadata_2013.txt', delimiter='\\t', header=None)\n",
    "df = df.drop(columns=[1])\n",
    "df = df.replace(['F','M', 'Unknown'], [1, 2, 0])\n",
    "df = df.set_index(0)\n",
    "\n",
    "print(df.loc[34].values[0])\n",
    "\n",
    "E = np.genfromtxt(path1+'Facebook-known-pairs_data_2013.csv', delimiter=' ').astype(np.int32)\n",
    "e = E.shape[0]\n",
    "\n",
    "N = np.unique(E[:, :-1])\n",
    "n = N.shape[0]\n",
    "\n",
    "A = np.zeros([n, n]).astype(np.int32)\n",
    "F = np.zeros(n).astype(np.int32)\n",
    "\n",
    "for i in range(e):\n",
    "    l1 = int(np.where(N == E[i, 0])[0])\n",
    "    l2 = int(np.where(N == E[i, 1])[0])\n",
    "\n",
    "    F[l1] = df.loc[E[i, 0]].values[0]\n",
    "    F[l2] = df.loc[E[i, 1]].values[0]\n",
    "\n",
    "    A[l1, l2] = E[i, 2]\n",
    "    A[l2, l1] = E[i, 2]\n",
    "\n",
    "sm = np.array([5])\n",
    "inter = np.setdiff1d(np.arange(n), sm)\n",
    "\n",
    "A = A[inter, :]\n",
    "A = A[:, inter]\n",
    "F = F[inter]\n",
    "np.savetxt(path1+'facebook.csv', A, fmt='%d', delimiter=',')\n",
    "np.savetxt(path1+'fb_attr.csv', F, fmt='%d', delimiter=',')\n",
    "\n",
    "all_in_one = np.ones(F.shape[0])\n",
    "uniqe_vals, count = np.unique(F, return_counts=True)\n",
    "Facebook_balance = min(count)/max(count)\n",
    "\n",
    "print(\"Dataset balance = \", Facebook_balance)"
   ],
   "metadata": {
    "collapsed": false,
    "ExecuteTime": {
     "end_time": "2023-11-14T21:51:20.933175400Z",
     "start_time": "2023-11-14T21:51:19.811061200Z"
    }
   }
  },
  {
   "cell_type": "code",
   "execution_count": 5,
   "outputs": [
    {
     "name": "stdout",
     "output_type": "stream",
     "text": [
      "Dataset balance =  0.7647058823529411\n"
     ]
    }
   ],
   "source": [
    "E = np.genfromtxt(path1+'Contact-diaries-network_data_2013.csv', delimiter=' ').astype(np.int32)\n",
    "e = E.shape[0]\n",
    "\n",
    "N = np.unique(E[:, :-1])\n",
    "n = N.shape[0]\n",
    "\n",
    "A = np.zeros([n, n]).astype(np.int32)\n",
    "F = np.zeros(n).astype(np.int32)\n",
    "\n",
    "for i in range(e):\n",
    "    l1 = int(np.where(N == E[i, 0])[0])\n",
    "    l2 = int(np.where(N == E[i, 1])[0])\n",
    "\n",
    "    F[l1] = df.loc[E[i, 0]].values[0]\n",
    "    F[l2] = df.loc[E[i, 1]].values[0]\n",
    "\n",
    "    A[l1, l2] = E[i, 2]\n",
    "    A[l2, l1] = E[i, 2]\n",
    "\n",
    "A[A>0] = 1\n",
    "np.savetxt(path1+'diaries.csv', A, fmt='%d', delimiter=',')\n",
    "np.savetxt(path1+'cd_attr.csv', F, fmt='%d', delimiter=',')\n",
    "\n",
    "all_in_one = np.ones(F.shape[0])\n",
    "uniqe_vals, count = np.unique(F, return_counts=True)\n",
    "Diaries_balance = min(count)/max(count)\n",
    "\n",
    "print(\"Dataset balance = \", Diaries_balance)"
   ],
   "metadata": {
    "collapsed": false,
    "ExecuteTime": {
     "end_time": "2023-11-14T21:51:30.911667200Z",
     "start_time": "2023-11-14T21:51:28.497681Z"
    }
   }
  },
  {
   "cell_type": "code",
   "execution_count": 6,
   "outputs": [
    {
     "name": "stdout",
     "output_type": "stream",
     "text": [
      "Dataset balance =  0.6710526315789473\n"
     ]
    }
   ],
   "source": [
    "E = np.genfromtxt(path1+'Friendship-network_data_2013.csv', delimiter=' ').astype(np.int32)\n",
    "e = E.shape[0]\n",
    "\n",
    "N = np.unique(E)\n",
    "n = N.shape[0]\n",
    "\n",
    "A = np.zeros([n, n]).astype(np.int32)\n",
    "F = np.zeros(n).astype(np.int32)\n",
    "\n",
    "for i in range(e):\n",
    "    l1 = int(np.where(N == E[i, 0])[0])\n",
    "    l2 = int(np.where(N == E[i, 1])[0])\n",
    "\n",
    "    F[l1] = df.loc[E[i, 0]].values[0]\n",
    "    F[l2] = df.loc[E[i, 1]].values[0]\n",
    "\n",
    "    A[l1, l2] = 1\n",
    "    A[l2, l1] = 1\n",
    "\n",
    "nn = A.shape[0]\n",
    "sm = np.array([5, 68, 126, 130, 24, 79, 125])\n",
    "\n",
    "inter = np.setdiff1d(np.arange(nn), sm)\n",
    "\n",
    "A = A[inter, :]\n",
    "A = A[:, inter]\n",
    "F = F[inter]\n",
    "\n",
    "np.savetxt(path1+'Friendship.csv', A, fmt='%d', delimiter=',')\n",
    "np.savetxt(path1+'fr_attr.csv', F, fmt='%d', delimiter=',')\n",
    "\n",
    "all_in_one = np.ones(F.shape[0])\n",
    "uniqe_vals, count = np.unique(F, return_counts=True)\n",
    "Friendship_balance = min(count)/max(count)\n",
    "\n",
    "print(\"Dataset balance = \", Friendship_balance)"
   ],
   "metadata": {
    "collapsed": false,
    "ExecuteTime": {
     "end_time": "2023-11-14T21:52:04.789360Z",
     "start_time": "2023-11-14T21:52:04.624207400Z"
    }
   }
  },
  {
   "cell_type": "markdown",
   "source": [
    "## LastFM"
   ],
   "metadata": {
    "collapsed": false
   }
  },
  {
   "cell_type": "markdown",
   "source": [
    "## Pokec"
   ],
   "metadata": {
    "collapsed": false
   }
  },
  {
   "cell_type": "code",
   "execution_count": null,
   "outputs": [],
   "source": [
    "path1 = \"data/Pokec/\"\n",
    "path2 = \"results/New/Pokec/\"\n",
    "\n",
    "lab = np.genfromtxt(path1+'region_job.csv', delimiter=',', skip_header=1)[:, [0, 6]]\n",
    "lab = lab.astype(np.int32)\n",
    "\n",
    "att = np.genfromtxt(path1+'region_job.csv', delimiter=',', skip_header=1)[:, [0, 5]]\n",
    "att = att.astype(np.int32)\n",
    "\n",
    "E = np.genfromtxt(path1+'region_job_relationship.txt', delimiter='\\t').astype(np.int32)\n",
    "e = E.shape[0]\n",
    "\n",
    "N = np.unique(E)\n",
    "n = N.shape[0]\n",
    "\n",
    "A = np.zeros([n, n]).astype(np.int32)\n",
    "F = np.zeros(n).astype(np.int32)\n",
    "label = np.zeros(n).astype(np.int32)\n",
    "\n",
    "# ‘1’: Age[0, 18], ‘2’: Age[19, 25], ‘3’: Age[26,35], ‘4’: Age[36+]\n",
    "# Similar to ECAI-2023: https://arxiv.org/pdf/2307.12065.pdf\n",
    "\n",
    "att[att[:,1]<=18, 1] = 1\n",
    "att[np.logical_and(att[:,1]>=19, att[:,1]<=25), 1] = 2\n",
    "att[np.logical_and(att[:,1]>=26, att[:,1]<=35), 1] = 3\n",
    "att[att[:,1]>=36, 1] = 4\n",
    "\n",
    "for i in range(e):\n",
    "    l1 = int(np.where(N == E[i, 0])[0])\n",
    "    l2 = int(np.where(N == E[i, 1])[0])\n",
    "\n",
    "    ind1 = np.where(E[i, 0] == att[:, 0])\n",
    "    ind2 = np.where(E[i, 1] == att[:, 0])\n",
    "\n",
    "    F[l1] = att[ind1, 1]\n",
    "    F[l2] = att[ind2, 1]\n",
    "\n",
    "    label[l1] = lab[ind1, 1]\n",
    "    label[l2] = lab[ind2, 1]\n",
    "\n",
    "    A[l1, l2] = 1\n",
    "    A[l2, l1] = 1\n",
    "\n",
    "Pokec_sp = sparse.csc_matrix(A)\n",
    "\n",
    "sparse.save_npz(path1+\"pre_processed/sparse_Pokec_graph_region_A.npz\", Pokec_sp)\n",
    "np.savetxt(path1+'pre_processed/Pokecgraph_reg1.csv', A, fmt='%d', delimiter=',')\n",
    "np.savetxt(path1+'pre_processed/Pokecfeature_reg1.csv', F, fmt='%d', delimiter=',')"
   ],
   "metadata": {
    "collapsed": false
   }
  },
  {
   "cell_type": "markdown",
   "source": [
    "## Create SBM"
   ],
   "metadata": {
    "collapsed": false
   }
  },
  {
   "cell_type": "code",
   "execution_count": null,
   "outputs": [],
   "source": [],
   "metadata": {
    "collapsed": false
   }
  }
 ],
 "metadata": {
  "kernelspec": {
   "display_name": "Python 3",
   "language": "python",
   "name": "python3"
  },
  "language_info": {
   "codemirror_mode": {
    "name": "ipython",
    "version": 2
   },
   "file_extension": ".py",
   "mimetype": "text/x-python",
   "name": "python",
   "nbconvert_exporter": "python",
   "pygments_lexer": "ipython2",
   "version": "2.7.6"
  }
 },
 "nbformat": 4,
 "nbformat_minor": 0
}
